{
 "cells": [
  {
   "cell_type": "code",
   "execution_count": 7,
   "id": "27cd2b9b-b0a3-41cd-958e-c868b954acf7",
   "metadata": {},
   "outputs": [
    {
     "name": "stdout",
     "output_type": "stream",
     "text": [
      "\n",
      "The Three numbers in the family are 1, 2, and 3\n",
      "1+2=3 and 2+1=3\n",
      "3-2=1 and 3-1=2\n",
      "\n"
     ]
    }
   ],
   "source": [
    "#Factor Family\n",
    "#First Number in family\n",
    "num1 = 1\n",
    "#Second Number in Family\n",
    "num2 = 2\n",
    "#DO NOT TOUCH THIS\n",
    "num3 = num1+num2\n",
    "info = f\"\"\"\n",
    "The Three numbers in the family are {num1}, {num2}, and {num3}\n",
    "{num1}+{num2}={num3} and {num2}+{num1}={num3}\n",
    "{num3}-{num2}={num1} and {num3}-{num1}={num2}\n",
    "\"\"\"\n",
    "print(info)\n"
   ]
  }
 ],
 "metadata": {
  "kernelspec": {
   "display_name": "Python 3 (ipykernel)",
   "language": "python",
   "name": "python3"
  },
  "language_info": {
   "codemirror_mode": {
    "name": "ipython",
    "version": 3
   },
   "file_extension": ".py",
   "mimetype": "text/x-python",
   "name": "python",
   "nbconvert_exporter": "python",
   "pygments_lexer": "ipython3",
   "version": "3.9.12"
  }
 },
 "nbformat": 4,
 "nbformat_minor": 5
}
